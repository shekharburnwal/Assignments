{
 "cells": [
  {
   "cell_type": "markdown",
   "id": "e7078a45",
   "metadata": {},
   "source": [
    "# Programming_Assignment 1"
   ]
  },
  {
   "cell_type": "markdown",
   "id": "da1c7814",
   "metadata": {},
   "source": [
    "1. Write a Python program to print &quot;Hello Python&quot;?"
   ]
  },
  {
   "cell_type": "code",
   "execution_count": 1,
   "id": "fc63cb5b",
   "metadata": {},
   "outputs": [
    {
     "name": "stdout",
     "output_type": "stream",
     "text": [
      "Hello Python\n"
     ]
    }
   ],
   "source": [
    "a = \"Hello Python\"\n",
    "print (a)"
   ]
  },
  {
   "cell_type": "markdown",
   "id": "209ea9f8",
   "metadata": {},
   "source": [
    "2.Write a Python program to do arithmetical operations addition and division.?"
   ]
  },
  {
   "cell_type": "code",
   "execution_count": 2,
   "id": "50bf1425",
   "metadata": {},
   "outputs": [],
   "source": [
    "def addition(num1, num2):\n",
    "    return num1 + num2"
   ]
  },
  {
   "cell_type": "code",
   "execution_count": 3,
   "id": "878d985e",
   "metadata": {},
   "outputs": [],
   "source": [
    "def division(num1, num2):\n",
    "    if num2 != 0:\n",
    "        return num1 / num2\n",
    "    else:\n",
    "        return \"Cannot divide by zero!\""
   ]
  },
  {
   "cell_type": "code",
   "execution_count": 4,
   "id": "648aa2fa",
   "metadata": {},
   "outputs": [
    {
     "name": "stdout",
     "output_type": "stream",
     "text": [
      "Enter the first number: 5.6\n",
      "Enter the second number: 3.2\n"
     ]
    }
   ],
   "source": [
    "# Input numbers from the user\n",
    "num1 = float(input(\"Enter the first number: \"))\n",
    "num2 = float(input(\"Enter the second number: \"))"
   ]
  },
  {
   "cell_type": "code",
   "execution_count": 6,
   "id": "ea91867e",
   "metadata": {},
   "outputs": [],
   "source": [
    "\n",
    "\n",
    "\n",
    "sum_result = addition(num1, num2)\n",
    "division_result = division(num1, num2)"
   ]
  },
  {
   "cell_type": "code",
   "execution_count": 7,
   "id": "0e3f5f08",
   "metadata": {},
   "outputs": [
    {
     "name": "stdout",
     "output_type": "stream",
     "text": [
      "Addition: 8.8\n",
      "Division: 1.7499999999999998\n"
     ]
    }
   ],
   "source": [
    "# Print the results\n",
    "print(\"Addition:\", sum_result)\n",
    "print(\"Division:\", division_result)"
   ]
  },
  {
   "cell_type": "markdown",
   "id": "773928cb",
   "metadata": {},
   "source": [
    "3. Write a Python program to find the area of a triangle?"
   ]
  },
  {
   "cell_type": "code",
   "execution_count": 8,
   "id": "595cfba6",
   "metadata": {},
   "outputs": [
    {
     "name": "stdout",
     "output_type": "stream",
     "text": [
      "Enter the base of the triangle: 10\n",
      "Enter the height of the triangle: 12\n",
      "The area of the triangle is: 60.0\n"
     ]
    }
   ],
   "source": [
    "base = float(input(\"Enter the base of the triangle: \"))\n",
    "height = float(input(\"Enter the height of the triangle: \"))\n",
    "\n",
    "area = 0.5 * base * height\n",
    "\n",
    "print(\"The area of the triangle is:\", area)"
   ]
  },
  {
   "cell_type": "markdown",
   "id": "ad56c4b6",
   "metadata": {},
   "source": [
    "4. Write a Python program to swap two variables?"
   ]
  },
  {
   "cell_type": "code",
   "execution_count": 9,
   "id": "19dddced",
   "metadata": {},
   "outputs": [
    {
     "name": "stdout",
     "output_type": "stream",
     "text": [
      "Enter the value of the first variable: 60\n",
      "Enter the value of the second variable: 40\n"
     ]
    }
   ],
   "source": [
    "# Take input from the user\n",
    "a = input(\"Enter the value of the first variable: \")\n",
    "b = input(\"Enter the value of the second variable: \")"
   ]
  },
  {
   "cell_type": "code",
   "execution_count": 10,
   "id": "32a02bdb",
   "metadata": {},
   "outputs": [
    {
     "name": "stdout",
     "output_type": "stream",
     "text": [
      "-- Before swapping --\n",
      "First variable: 60\n",
      "Second variable: 40\n"
     ]
    }
   ],
   "source": [
    "print(\"-- Before swapping --\")\n",
    "print(\"First variable:\", a)\n",
    "print(\"Second variable:\", b)"
   ]
  },
  {
   "cell_type": "code",
   "execution_count": 11,
   "id": "211baf29",
   "metadata": {},
   "outputs": [],
   "source": [
    "# Swap the values\n",
    "temp = a\n",
    "a = b\n",
    "b = temp"
   ]
  },
  {
   "cell_type": "code",
   "execution_count": 12,
   "id": "d907bfd8",
   "metadata": {},
   "outputs": [
    {
     "name": "stdout",
     "output_type": "stream",
     "text": [
      "-- After swapping --\n",
      "First variable: 40\n",
      "Second variable: 60\n"
     ]
    }
   ],
   "source": [
    "print(\"-- After swapping --\")\n",
    "print(\"First variable:\", a)\n",
    "print(\"Second variable:\", b)"
   ]
  },
  {
   "cell_type": "markdown",
   "id": "e4090cf5",
   "metadata": {},
   "source": [
    "5. Write a Python program to generate a random number?"
   ]
  },
  {
   "cell_type": "code",
   "execution_count": 14,
   "id": "c61765d7",
   "metadata": {},
   "outputs": [
    {
     "name": "stdout",
     "output_type": "stream",
     "text": [
      "Random number: 94\n"
     ]
    }
   ],
   "source": [
    "import random\n",
    "\n",
    "# Generate a random number between 1 and 100\n",
    "random_number = random.randint(1, 100)\n",
    "\n",
    "print(\"Random number:\", random_number)"
   ]
  },
  {
   "cell_type": "markdown",
   "id": "5187d275",
   "metadata": {},
   "source": [
    "# Thank You!"
   ]
  }
 ],
 "metadata": {
  "kernelspec": {
   "display_name": "Python 3",
   "language": "python",
   "name": "python3"
  },
  "language_info": {
   "codemirror_mode": {
    "name": "ipython",
    "version": 3
   },
   "file_extension": ".py",
   "mimetype": "text/x-python",
   "name": "python",
   "nbconvert_exporter": "python",
   "pygments_lexer": "ipython3",
   "version": "3.8.8"
  }
 },
 "nbformat": 4,
 "nbformat_minor": 5
}
