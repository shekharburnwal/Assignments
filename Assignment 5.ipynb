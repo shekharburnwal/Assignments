{
 "cells": [
  {
   "cell_type": "markdown",
   "id": "3c9a2253",
   "metadata": {},
   "source": [
    "1. What does an empty dictionary's code look like?"
   ]
  },
  {
   "cell_type": "markdown",
   "id": "4911f941",
   "metadata": {},
   "source": [
    "Ans. We can assign no elements in curly brackets {}."
   ]
  },
  {
   "cell_type": "markdown",
   "id": "a67ec890",
   "metadata": {},
   "source": [
    "2. What is the value of a dictionary value with the key 'foo' and the value 42?"
   ]
  },
  {
   "cell_type": "markdown",
   "id": "9b44a7fd",
   "metadata": {},
   "source": [
    "Ans. d = {\"foo\" : 42 }\n",
    "print(d)\n",
    "{'foo': 42}"
   ]
  },
  {
   "cell_type": "markdown",
   "id": "ba4e530b",
   "metadata": {},
   "source": [
    "3. What is the most significant distinction between a dictionary and a list?"
   ]
  },
  {
   "cell_type": "markdown",
   "id": "5c2de435",
   "metadata": {},
   "source": [
    "Ans. In dictionary the items will be present in unordered form while in a list the items will be in ordered form."
   ]
  },
  {
   "cell_type": "markdown",
   "id": "8ec79890",
   "metadata": {},
   "source": [
    "4. What happens if you try to access spam['foo'] if spam is {'bar': 100}?"
   ]
  },
  {
   "cell_type": "markdown",
   "id": "f5eae2d1",
   "metadata": {},
   "source": [
    "Ans. We get a KeyError error."
   ]
  },
  {
   "cell_type": "markdown",
   "id": "2e91d5ed",
   "metadata": {},
   "source": [
    "5. If a dictionary is stored in spam, what is the difference between the expressions 'cat' in spam and 'cat' in spam.keys()?"
   ]
  },
  {
   "cell_type": "markdown",
   "id": "8ea66ad7",
   "metadata": {},
   "source": [
    "Ans: There is no difference. The in operator checks whether a value exists as a key in the dictionary."
   ]
  },
  {
   "cell_type": "markdown",
   "id": "1b197cbd",
   "metadata": {},
   "source": [
    "6. If a dictionary is stored in spam, what is the difference between the expressions 'cat' in spam and 'cat' in spam.values()?"
   ]
  },
  {
   "cell_type": "markdown",
   "id": "fac51749",
   "metadata": {},
   "source": [
    "Ans: 'cat' in spam checks whether there is a 'cat' key in the dictionary, while 'cat' in spam.values() checks whether there is a value 'cat' for one of the keys in spam."
   ]
  },
  {
   "cell_type": "markdown",
   "id": "65d7b5b2",
   "metadata": {},
   "source": [
    "7. What is a shortcut for the following code?\n",
    "if 'color' not in spam: spam['color'] = 'black'"
   ]
  },
  {
   "cell_type": "markdown",
   "id": "50747664",
   "metadata": {},
   "source": [
    "Ans: spam.setdefault('color', 'black')"
   ]
  },
  {
   "cell_type": "markdown",
   "id": "912f5f32",
   "metadata": {},
   "source": [
    "8. How do you \"pretty print\" dictionary values using which module and function?"
   ]
  },
  {
   "cell_type": "markdown",
   "id": "681f8bdd",
   "metadata": {},
   "source": [
    "Ans: pprint.pprint()"
   ]
  },
  {
   "cell_type": "code",
   "execution_count": null,
   "id": "fd968641",
   "metadata": {},
   "outputs": [],
   "source": []
  }
 ],
 "metadata": {
  "kernelspec": {
   "display_name": "Python 3 (ipykernel)",
   "language": "python",
   "name": "python3"
  },
  "language_info": {
   "codemirror_mode": {
    "name": "ipython",
    "version": 3
   },
   "file_extension": ".py",
   "mimetype": "text/x-python",
   "name": "python",
   "nbconvert_exporter": "python",
   "pygments_lexer": "ipython3",
   "version": "3.9.12"
  }
 },
 "nbformat": 4,
 "nbformat_minor": 5
}
